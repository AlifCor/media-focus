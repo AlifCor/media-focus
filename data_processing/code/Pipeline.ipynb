{
 "cells": [
  {
   "cell_type": "code",
   "execution_count": 1,
   "metadata": {},
   "outputs": [],
   "source": [
    "import pandas as pd\n",
    "import datetime\n",
    "import numpy as np"
   ]
  },
  {
   "cell_type": "code",
   "execution_count": 2,
   "metadata": {},
   "outputs": [],
   "source": [
    "from fetch_data import fetch_df"
   ]
  },
  {
   "cell_type": "code",
   "execution_count": 3,
   "metadata": {},
   "outputs": [],
   "source": [
    "start = datetime.date(2017, 3, 1) # <--- change this to start of interval (YYY, MM, DD)\n",
    "end = datetime.date(2017, 3, 10) # <--- change this to end of interval (YYY, MM, DD)"
   ]
  },
  {
   "cell_type": "code",
   "execution_count": 4,
   "metadata": {},
   "outputs": [],
   "source": [
    "df = fetch_df(start)"
   ]
  },
  {
   "cell_type": "code",
   "execution_count": 5,
   "metadata": {
    "scrolled": true
   },
   "outputs": [
    {
     "data": {
      "text/plain": [
       "Index(['Day', 'MonthYear', 'Year', 'FractionDate', 'Actor1Code', 'Actor1Name',\n",
       "       'Actor1CountryCode', 'Actor1KnownGroupCode', 'Actor1EthnicCode',\n",
       "       'Actor1Religion1Code', 'Actor1Religion2Code', 'Actor1Type1Code',\n",
       "       'Actor1Type2Code', 'Actor1Type3Code', 'Actor2Code', 'Actor2Name',\n",
       "       'Actor2CountryCode', 'Actor2KnownGroupCode', 'Actor2EthnicCode',\n",
       "       'Actor2Religion1Code', 'Actor2Religion2Code', 'Actor2Type1Code',\n",
       "       'Actor2Type2Code', 'Actor2Type3Code', 'IsRootEvent', 'EventCode',\n",
       "       'EventBaseCode', 'EventRootCode', 'QuadClass', 'GoldsteinScale',\n",
       "       'NumMentions', 'NumSources', 'NumArticles', 'AvgTone', 'Actor1Geo_Type',\n",
       "       'Actor1Geo_Fullname', 'Actor1Geo_CountryCode', 'Actor1Geo_ADM1Code',\n",
       "       'Actor1Geo_Lat', 'Actor1Geo_Long', 'Actor1Geo_FeatureID',\n",
       "       'Actor2Geo_Type', 'Actor2Geo_Fullname', 'Actor2Geo_CountryCode',\n",
       "       'Actor2Geo_ADM1Code', 'Actor2Geo_Lat', 'Actor2Geo_Long',\n",
       "       'Actor2Geo_FeatureID', 'ActionGeo_Type', 'ActionGeo_Fullname',\n",
       "       'ActionGeo_CountryCode', 'ActionGeo_ADM1Code', 'ActionGeo_Lat',\n",
       "       'ActionGeo_Long', 'ActionGeo_FeatureID', 'DATEADDED', 'Sources'],\n",
       "      dtype='object')"
      ]
     },
     "execution_count": 5,
     "metadata": {},
     "output_type": "execute_result"
    }
   ],
   "source": [
    "df.columns"
   ]
  },
  {
   "cell_type": "code",
   "execution_count": 6,
   "metadata": {},
   "outputs": [],
   "source": [
    "data_kept = df[['IsRootEvent', 'QuadClass', 'EventCode', 'EventRootCode', 'ActionGeo_Lat', 'ActionGeo_Long', 'ActionGeo_CountryCode', 'Sources']]"
   ]
  },
  {
   "cell_type": "code",
   "execution_count": 7,
   "metadata": {},
   "outputs": [],
   "source": [
    "data_kept = data_kept.dropna(axis=0)"
   ]
  },
  {
   "cell_type": "code",
   "execution_count": 8,
   "metadata": {},
   "outputs": [],
   "source": [
    "from bs4 import BeautifulSoup\n",
    "import requests\n",
    "\n",
    "html_doc = requests.get('https://www.cia.gov/library/publications/the-world-factbook/appendix/appendix-d.html')\n",
    "\n",
    "soup = BeautifulSoup(html_doc.content, 'html.parser')\n",
    "\n",
    "mapping = []\n",
    "\n",
    "for elem in soup.find_all('div'):\n",
    "    if elem.get('class') != None and elem.get('class')[0] == 'category_data':\n",
    "        mapping.append(np.array([elem.find_all('td')[0].a.string, elem.find_all('td')[1].string, elem.find_all('td')[4].string, elem.find_all('td')[7].string]))\n",
    "\n",
    "mapping = np.array(mapping)"
   ]
  },
  {
   "cell_type": "code",
   "execution_count": 9,
   "metadata": {},
   "outputs": [],
   "source": [
    "fips_to_alpha = {}\n",
    "alpha_to_name = {}\n",
    "tld_to_name = {}\n",
    "\n",
    "\n",
    "for x in mapping:\n",
    "    fips_to_alpha[x[1]] = x[2]\n",
    "    alpha_to_name[x[2]] = x[0]\n",
    "    tld_to_name[x[3]] = x[0]\n",
    "    \n",
    "fips_to_alpha['RB'] = 'SRB'\n"
   ]
  },
  {
   "cell_type": "code",
   "execution_count": 10,
   "metadata": {},
   "outputs": [],
   "source": [
    "data_kept['country_code_alpha'] = data_kept['ActionGeo_CountryCode'].apply(lambda x: fips_to_alpha[x] if x in fips_to_alpha else 'None')"
   ]
  },
  {
   "cell_type": "code",
   "execution_count": 11,
   "metadata": {},
   "outputs": [],
   "source": [
    "data_kept = data_kept[data_kept['country_code_alpha'] != 'None']"
   ]
  },
  {
   "cell_type": "code",
   "execution_count": 12,
   "metadata": {},
   "outputs": [],
   "source": [
    "data_kept['country_name'] = data_kept['country_code_alpha'].apply(lambda x: alpha_to_name[x] if x in alpha_to_name else 'None')"
   ]
  },
  {
   "cell_type": "code",
   "execution_count": 13,
   "metadata": {},
   "outputs": [],
   "source": [
    "import re"
   ]
  },
  {
   "cell_type": "code",
   "execution_count": 14,
   "metadata": {},
   "outputs": [],
   "source": [
    "def get_tld(url, tld=False):\n",
    "            \n",
    "    url_pair = re.findall(r'\\b(?!www\\.)([a-zA-Z0-9-]+(\\.[a-z]+)+)', url.lower())\n",
    "\n",
    "    if(url_pair == []):\n",
    "        return url\n",
    "    else:\n",
    "        if tld:\n",
    "            return url_pair[0][1]\n",
    "        else:\n",
    "            return url_pair[0][0]"
   ]
  },
  {
   "cell_type": "code",
   "execution_count": 15,
   "metadata": {},
   "outputs": [],
   "source": [
    "data_kept['source_country_name'] = data_kept['Sources'].apply(lambda x: get_tld(x, tld=True)).apply(lambda x: tld_to_name[x] if x in tld_to_name else 'Unknown')"
   ]
  },
  {
   "cell_type": "code",
   "execution_count": 16,
   "metadata": {},
   "outputs": [
    {
     "data": {
      "text/plain": [
       "Unknown                  79.671801\n",
       "United Kingdom            4.379800\n",
       "Australia                 3.058759\n",
       "India                     1.100664\n",
       "Pakistan                  0.980272\n",
       "Canada                    0.940686\n",
       "South Africa              0.859064\n",
       "Nigeria                   0.637463\n",
       "Ireland                   0.588082\n",
       "New Zealand               0.517071\n",
       "China                     0.464833\n",
       "Philippines               0.390150\n",
       "Tuvalu                    0.333423\n",
       "Kenya                     0.321588\n",
       "Azerbaijan                0.315875\n",
       "Malaysia                  0.274656\n",
       "Vietnam                   0.271391\n",
       "Germany                   0.244048\n",
       "Armenia                   0.239967\n",
       "Ghana                     0.183240\n",
       "Switzerland               0.173037\n",
       "Colombia                  0.164875\n",
       "Korea, South              0.146102\n",
       "Zimbabwe                  0.145286\n",
       "Iran                      0.143654\n",
       "Saudi Arabia              0.138756\n",
       "Bangladesh                0.136716\n",
       "Turkey                    0.129370\n",
       "Sri Lanka                 0.127737\n",
       "United Arab Emirates      0.126513\n",
       "                           ...    \n",
       "Maldives                  0.006122\n",
       "Portugal                  0.005713\n",
       "Mexico                    0.005305\n",
       "Cambodia                  0.004897\n",
       "Albania                   0.004489\n",
       "Grenada                   0.004489\n",
       "Russia                    0.004081\n",
       "Bulgaria                  0.004081\n",
       "Denmark                   0.004081\n",
       "Laos                      0.004081\n",
       "Brazil                    0.003673\n",
       "Kazakhstan                0.003673\n",
       "Slovenia                  0.003265\n",
       "Jamaica                   0.002857\n",
       "Croatia                   0.002449\n",
       "Jordan                    0.002449\n",
       "Belgium                   0.001632\n",
       "Dominica                  0.001632\n",
       "Austria                   0.001632\n",
       "Cyprus                    0.001224\n",
       "Mauritius                 0.001224\n",
       "Mongolia                  0.001224\n",
       "Chile                     0.001224\n",
       "Morocco                   0.000816\n",
       "Latvia                    0.000816\n",
       "Qatar                     0.000408\n",
       "Thailand                  0.000408\n",
       "Tonga                     0.000408\n",
       "Sao Tome and Principe     0.000408\n",
       "Sint Maarten              0.000408\n",
       "Name: source_country_name, Length: 136, dtype: float64"
      ]
     },
     "execution_count": 16,
     "metadata": {},
     "output_type": "execute_result"
    }
   ],
   "source": [
    "data_kept['source_country_name'].value_counts()/len(data_kept['source_country_name'].values) * 100"
   ]
  },
  {
   "cell_type": "code",
   "execution_count": 17,
   "metadata": {},
   "outputs": [],
   "source": [
    "source_country = pd.read_csv('../data/clean_url_to_country.csv')"
   ]
  },
  {
   "cell_type": "code",
   "execution_count": 18,
   "metadata": {},
   "outputs": [],
   "source": [
    "mapping = source_country[['Country name', 'Clean URL']].drop_duplicates().set_index('Clean URL')['Country name']"
   ]
  },
  {
   "cell_type": "code",
   "execution_count": 19,
   "metadata": {},
   "outputs": [],
   "source": [
    "dic = mapping.to_dict()"
   ]
  },
  {
   "cell_type": "code",
   "execution_count": 20,
   "metadata": {},
   "outputs": [],
   "source": [
    "dic['4-traders.com'] = 'France'\n",
    "dic['news.xinhuanet.com'] = 'China'\n",
    "dic['sputniknews.com'] = 'Russia'\n",
    "dic['yahoo.com'] = 'United States'\n",
    "dic['globalsecurity.org'] = 'United States'\n",
    "dic['india.com'] = 'India'\n",
    "dic['malaysiandigest.com'] = 'Malaysia'\n",
    "dic['freerepublic.com'] = 'United States'"
   ]
  },
  {
   "cell_type": "code",
   "execution_count": 21,
   "metadata": {},
   "outputs": [],
   "source": [
    "data_kept.loc[data_kept['source_country_name'] == 'Unknown', 'source_country_name'] = data_kept.loc[data_kept['source_country_name'] == 'Unknown', 'Sources'].apply(lambda x: get_tld(x)).apply(lambda x: dic[x] if x in dic else 'Unknown')"
   ]
  },
  {
   "cell_type": "code",
   "execution_count": 22,
   "metadata": {},
   "outputs": [
    {
     "data": {
      "text/plain": [
       "United States                    30.440265\n",
       "Unknown                          30.091334\n",
       "United Kingdom                    4.776480\n",
       "India                             4.687513\n",
       "Australia                         3.184048\n",
       "Canada                            2.264176\n",
       "Nigeria                           2.017679\n",
       "Pakistan                          1.337774\n",
       "South Africa                      1.038631\n",
       "China                             0.922321\n",
       "Malaysia                          0.897426\n",
       "International                     0.866410\n",
       "Philippines                       0.838251\n",
       "Africa Regional                   0.827232\n",
       "Ireland                           0.817029\n",
       "France                            0.663581\n",
       "Ghana                             0.651338\n",
       "Israel                            0.590122\n",
       "New Zealand                       0.523601\n",
       "Russia                            0.443612\n",
       "Bangladesh                        0.426471\n",
       "Near and Middle East Regional     0.408923\n",
       "Kenya                             0.373826\n",
       "Europe Regional                   0.372601\n",
       "Indonesia                         0.355869\n",
       "Tuvalu                            0.333423\n",
       "Armenia                           0.332199\n",
       "Turkey                            0.331383\n",
       "United Arab Emirates              0.327710\n",
       "Azerbaijan                        0.319139\n",
       "                                   ...    \n",
       "Brunei Darussalam                 0.005305\n",
       "Laos                              0.005305\n",
       "Mexico                            0.005305\n",
       "Monaco                            0.004081\n",
       "Bulgaria                          0.004081\n",
       "Denmark                           0.004081\n",
       "Jersey                            0.003673\n",
       "Kosovo                            0.003673\n",
       "Antarctica                        0.003673\n",
       "Marshall Islands                  0.003265\n",
       "American Samoa                    0.002857\n",
       "Chad                              0.002857\n",
       " Burundi                          0.002449\n",
       "Croatia                           0.002449\n",
       "Dominica                          0.001632\n",
       "Aruba                             0.001632\n",
       "North Korea                       0.001632\n",
       "Austria                           0.001632\n",
       "Haiti                             0.001632\n",
       "Palestine                         0.001632\n",
       "Suriname                          0.001224\n",
       "Mongolia                          0.001224\n",
       "Chile                             0.001224\n",
       "Morocco                           0.000816\n",
       "Latvia                            0.000816\n",
       "Saint Lucia                       0.000816\n",
       "Panama                            0.000816\n",
       "Sao Tome and Principe             0.000408\n",
       "Sint Maarten                      0.000408\n",
       "Tonga                             0.000408\n",
       "Name: source_country_name, Length: 192, dtype: float64"
      ]
     },
     "execution_count": 22,
     "metadata": {},
     "output_type": "execute_result"
    }
   ],
   "source": [
    "data_kept['source_country_name'].value_counts()/len(data_kept['source_country_name'].values) * 100"
   ]
  },
  {
   "cell_type": "code",
   "execution_count": 23,
   "metadata": {},
   "outputs": [
    {
     "data": {
      "text/plain": [
       "english.sina.com                                453\n",
       "godlikeproductions.com                          414\n",
       "sott.net                                        365\n",
       "usa.onlinenigeria.com                           363\n",
       "bostonglobe.com                                 354\n",
       "article.wn.com                                  339\n",
       "news.trust.org                                  331\n",
       "whio.com                                        325\n",
       "beijingbulletin.com                             307\n",
       "openpr.com                                      297\n",
       "irishsun.com                                    281\n",
       "indiagazette.com                                261\n",
       "arabherald.com                                  260\n",
       "hosted2.ap.org                                  245\n",
       "wsws.org                                        243\n",
       "blogs.worldbank.org                             241\n",
       "worldbulletin.net                               237\n",
       "refworld.org                                    233\n",
       "theiranproject.com                              232\n",
       "m.themalaymailonline.com                        226\n",
       "nasdaq.com                                      222\n",
       "juancole.com                                    212\n",
       "mypalmbeachpost.com                             208\n",
       "benarnews.org                                   203\n",
       "m.philstar.com                                  200\n",
       "pressreleasepoint.com                           194\n",
       "iraqsun.com                                     188\n",
       "targetednews.com                                188\n",
       "criticalthreats.org                             188\n",
       "oneindia.com                                    187\n",
       "                                               ... \n",
       "georgesoutdoornews.bangordailynews.com            1\n",
       "newsone.com                                       1\n",
       "thelakewoodscoop.com                              1\n",
       "cottagelife.com                                   1\n",
       "chantmagazine.com                                 1\n",
       "printpattern.blogspot.com                         1\n",
       "amharic.voanews.com                               1\n",
       "agrimoney.com                                     1\n",
       "kbow550.net                                       1\n",
       "closerweekly.com                                  1\n",
       "3chicspolitico.com                                1\n",
       "racked.com                                        1\n",
       "Facebook in Ukrainian/BBC Monitoring/(c) BBC      1\n",
       "wmrn.iheart.com                                   1\n",
       "aerospace-technology.com                          1\n",
       "news.missouristate.edu                            1\n",
       "gumboguide.com                                    1\n",
       "jcnnewswire.com                                   1\n",
       "tsnn.com                                          1\n",
       "opalesque.com                                     1\n",
       "bloodhorse.com                                    1\n",
       "waaf.com                                          1\n",
       "pharmpro.com                                      1\n",
       "etribuna.com                                      1\n",
       "ninersnation.com                                  1\n",
       "kvnonews.com                                      1\n",
       "konbini.com                                       1\n",
       "tellychakkar.com                                  1\n",
       "blog.mysanantonio.com                             1\n",
       "gamerant.com                                      1\n",
       "Name: Sources, Length: 5415, dtype: int64"
      ]
     },
     "execution_count": 23,
     "metadata": {},
     "output_type": "execute_result"
    }
   ],
   "source": [
    "data_kept.loc[data_kept['source_country_name'] == 'Unknown', 'Sources'].apply(lambda x: get_tld(x)).value_counts()"
   ]
  },
  {
   "cell_type": "code",
   "execution_count": 25,
   "metadata": {},
   "outputs": [],
   "source": [
    "data_kept = data_kept[['IsRootEvent', 'QuadClass', 'EventCode', 'EventRootCode', 'ActionGeo_Lat', 'ActionGeo_Long', 'country_name', 'source_country_name']]"
   ]
  },
  {
   "cell_type": "code",
   "execution_count": 26,
   "metadata": {},
   "outputs": [],
   "source": [
    "data_kept.to_csv('../data/data_cleaned.csv')"
   ]
  },
  {
   "cell_type": "code",
   "execution_count": null,
   "metadata": {},
   "outputs": [],
   "source": []
  }
 ],
 "metadata": {
  "kernelspec": {
   "display_name": "Python 3",
   "language": "python",
   "name": "python3"
  },
  "language_info": {
   "codemirror_mode": {
    "name": "ipython",
    "version": 3
   },
   "file_extension": ".py",
   "mimetype": "text/x-python",
   "name": "python",
   "nbconvert_exporter": "python",
   "pygments_lexer": "ipython3",
   "version": "3.6.3"
  }
 },
 "nbformat": 4,
 "nbformat_minor": 2
}
