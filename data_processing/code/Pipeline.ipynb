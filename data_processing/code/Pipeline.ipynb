{
 "cells": [
  {
   "cell_type": "code",
   "execution_count": 1,
   "metadata": {
    "collapsed": true
   },

   "outputs": [],
   "source": [
    "import pandas as pd\n",
    "import datetime\n",
    "import numpy as np"
   ]
  },
  {
   "cell_type": "code",
   "execution_count": 2,
   "metadata": {
    "collapsed": true
   },
   "outputs": [],
   "source": [
    "from fetch_data import fetch_df"
   ]
  },
  {
   "cell_type": "code",
   "execution_count": 3,
   "metadata": {
    "collapsed": true
   },
   "outputs": [],
   "source": [
    "start = datetime.date(2017, 3, 1) # <--- change this to start of interval (YYY, MM, DD)\n",
    "end = datetime.date(2017, 3, 10) # <--- change this to end of interval (YYY, MM, DD)"
   ]
  },
  {
   "cell_type": "code",
   "execution_count": 4,
   "metadata": {
    "collapsed": true
   },
   "outputs": [],
   "source": [
    "df = fetch_df(start)"
   ]
  },
  {
   "cell_type": "code",
   "execution_count": 5,
   "metadata": {
    "scrolled": false
   },
   "outputs": [
    {
     "data": {
      "text/plain": [
       "Index(['Day', 'MonthYear', 'Year', 'FractionDate', 'Actor1Code', 'Actor1Name',\n",
       "       'Actor1CountryCode', 'Actor1KnownGroupCode', 'Actor1EthnicCode',\n",
       "       'Actor1Religion1Code', 'Actor1Religion2Code', 'Actor1Type1Code',\n",
       "       'Actor1Type2Code', 'Actor1Type3Code', 'Actor2Code', 'Actor2Name',\n",
       "       'Actor2CountryCode', 'Actor2KnownGroupCode', 'Actor2EthnicCode',\n",
       "       'Actor2Religion1Code', 'Actor2Religion2Code', 'Actor2Type1Code',\n",
       "       'Actor2Type2Code', 'Actor2Type3Code', 'IsRootEvent', 'EventCode',\n",
       "       'EventBaseCode', 'EventRootCode', 'QuadClass', 'GoldsteinScale',\n",
       "       'NumMentions', 'NumSources', 'NumArticles', 'AvgTone', 'Actor1Geo_Type',\n",
       "       'Actor1Geo_Fullname', 'Actor1Geo_CountryCode', 'Actor1Geo_ADM1Code',\n",
       "       'Actor1Geo_Lat', 'Actor1Geo_Long', 'Actor1Geo_FeatureID',\n",
       "       'Actor2Geo_Type', 'Actor2Geo_Fullname', 'Actor2Geo_CountryCode',\n",
       "       'Actor2Geo_ADM1Code', 'Actor2Geo_Lat', 'Actor2Geo_Long',\n",
       "       'Actor2Geo_FeatureID', 'ActionGeo_Type', 'ActionGeo_Fullname',\n",
       "       'ActionGeo_CountryCode', 'ActionGeo_ADM1Code', 'ActionGeo_Lat',\n",
       "       'ActionGeo_Long', 'ActionGeo_FeatureID', 'DATEADDED', 'Sources'],\n",
       "      dtype='object')"
      ]
     },
     "execution_count": 5,
     "metadata": {},
     "output_type": "execute_result"
    }
   ],
   "source": [
    "df.columns"
   ]
  },
  {
   "cell_type": "code",
   "execution_count": 6,
   "metadata": {
    "collapsed": true
   },
   "outputs": [],
   "source": [
    "data_kept = df[['IsRootEvent', 'QuadClass', 'EventCode', 'EventRootCode', 'ActionGeo_Lat', 'ActionGeo_Long', 'ActionGeo_CountryCode', 'Sources']]"
   ]
  },
  {
   "cell_type": "code",
   "execution_count": 7,
   "metadata": {
    "collapsed": true
   },
   "outputs": [],
   "source": [
    "data_kept = data_kept.dropna(axis=0)"
   ]
  },
  {
   "cell_type": "code",
   "execution_count": 8,
   "metadata": {
    "collapsed": true
   },
   "outputs": [],
   "source": [
    "from bs4 import BeautifulSoup\n",
    "import requests\n",
    "\n",
    "html_doc = requests.get('https://www.cia.gov/library/publications/the-world-factbook/appendix/appendix-d.html')\n",
    "\n",
    "soup = BeautifulSoup(html_doc.content, 'html.parser')\n",
    "\n",
    "mapping = []\n",
    "\n",
    "for elem in soup.find_all('div'):\n",
    "    if elem.get('class') != None and elem.get('class')[0] == 'category_data':\n",
    "        mapping.append(np.array([elem.find_all('td')[0].a.string, elem.find_all('td')[1].string, elem.find_all('td')[4].string, elem.find_all('td')[7].string]))\n",
    "\n",
    "mapping = np.array(mapping)"
   ]
  },
  {
   "cell_type": "code",
   "execution_count": 9,
   "metadata": {
    "collapsed": true
   },
   "outputs": [],
   "source": [
    "fips_to_alpha = {}\n",
    "alpha_to_name = {}\n",
    "tld_to_name = {}\n",
    "\n",
    "\n",
    "for x in mapping:\n",
    "    fips_to_alpha[x[1]] = x[2]\n",
    "    alpha_to_name[x[2]] = x[0]\n",
    "    tld_to_name[x[3]] = x[0]\n",
    "    \n",
    "fips_to_alpha['RB'] = 'SRB'\n"
   ]
  },
  {
   "cell_type": "code",
   "execution_count": 10,
   "metadata": {
    "collapsed": true
   },
   "outputs": [],
   "source": [
    "data_kept['country_code_alpha'] = data_kept['ActionGeo_CountryCode'].apply(lambda x: fips_to_alpha[x] if x in fips_to_alpha else 'None')"
   ]
  },
  {
   "cell_type": "code",
   "execution_count": 11,
   "metadata": {
    "collapsed": true
   },
   "outputs": [],
   "source": [
    "data_kept = data_kept[data_kept['country_code_alpha'] != 'None']"
   ]
  },
  {
   "cell_type": "code",
   "execution_count": 12,
   "metadata": {
    "collapsed": true
   },
   "outputs": [],
   "source": [
    "data_kept['country_name'] = data_kept['country_code_alpha'].apply(lambda x: alpha_to_name[x] if x in alpha_to_name else 'None')"
   ]
  },
  {
   "cell_type": "code",
   "execution_count": 13,
   "metadata": {
    "collapsed": true
   },
   "outputs": [],
   "source": [
    "import re"
   ]
  },
  {
   "cell_type": "code",
   "execution_count": 14,
   "metadata": {
    "collapsed": true
   },
   "outputs": [],
   "source": [
    "def get_tld(url, tld=False):\n",
    "            \n",
    "    url_pair = re.findall(r'\\b(?!www\\.)([a-zA-Z0-9-]+(\\.[a-z]+)+)', url.lower())\n",
    "\n",
    "    if(url_pair == []):\n",
    "        return url\n",
    "    else:\n",
    "        if tld:\n",
    "            return url_pair[0][1]\n",
    "        else:\n",
    "            return url_pair[0][0]"
   ]
  },
  {
   "cell_type": "code",
   "execution_count": 15,
   "metadata": {
    "collapsed": true
   },
   "outputs": [],
   "source": [
    "data_kept['source_country_name'] = data_kept['Sources'].apply(lambda x: get_tld(x, tld=True)).apply(lambda x: tld_to_name[x] if x in tld_to_name else 'Unknown')"
   ]
  },
  {
   "cell_type": "code",
   "execution_count": 16,
   "metadata": {},
   "outputs": [
    {
     "data": {
      "text/plain": [
       "Unknown                  79.671801\n",
       "United Kingdom            4.379800\n",
       "Australia                 3.058759\n",
       "India                     1.100664\n",
       "Pakistan                  0.980272\n",
       "Canada                    0.940686\n",
       "South Africa              0.859064\n",
       "Nigeria                   0.637463\n",
       "Ireland                   0.588082\n",
       "New Zealand               0.517071\n",
       "China                     0.464833\n",
       "Philippines               0.390150\n",
       "Tuvalu                    0.333423\n",
       "Kenya                     0.321588\n",
       "Azerbaijan                0.315875\n",
       "Malaysia                  0.274656\n",
       "Vietnam                   0.271391\n",
       "Germany                   0.244048\n",
       "Armenia                   0.239967\n",
       "Ghana                     0.183240\n",
       "Switzerland               0.173037\n",
       "Colombia                  0.164875\n",
       "Korea, South              0.146102\n",
       "Zimbabwe                  0.145286\n",
       "Iran                      0.143654\n",
       "Saudi Arabia              0.138756\n",
       "Bangladesh                0.136716\n",
       "Turkey                    0.129370\n",
       "Sri Lanka                 0.127737\n",
       "United Arab Emirates      0.126513\n",
       "                           ...    \n",
       "Maldives                  0.006122\n",
       "Portugal                  0.005713\n",
       "Mexico                    0.005305\n",
       "Cambodia                  0.004897\n",
       "Albania                   0.004489\n",
       "Grenada                   0.004489\n",
       "Russia                    0.004081\n",
       "Denmark                   0.004081\n",
       "Laos                      0.004081\n",
       "Bulgaria                  0.004081\n",
       "Kazakhstan                0.003673\n",
       "Brazil                    0.003673\n",
       "Slovenia                  0.003265\n",
       "Jamaica                   0.002857\n",
       "Croatia                   0.002449\n",
       "Jordan                    0.002449\n",
       "Dominica                  0.001632\n",
       "Belgium                   0.001632\n",
       "Austria                   0.001632\n",
       "Cyprus                    0.001224\n",
       "Mauritius                 0.001224\n",
       "Chile                     0.001224\n",
       "Mongolia                  0.001224\n",
       "Latvia                    0.000816\n",
       "Morocco                   0.000816\n",
       "Thailand                  0.000408\n",
       "Sao Tome and Principe     0.000408\n",
       "Qatar                     0.000408\n",
       "Sint Maarten              0.000408\n",
       "Tonga                     0.000408\n",
       "Name: source_country_name, Length: 136, dtype: float64"
      ]
     },
     "execution_count": 16,
     "metadata": {},
     "output_type": "execute_result"
    }
   ],
   "source": [
    "data_kept['source_country_name'].value_counts()/len(data_kept['source_country_name'].values) * 100"
   ]
  },
  {
   "cell_type": "code",
   "execution_count": 17,
   "metadata": {
    "collapsed": true
   },
   "outputs": [],
   "source": [
    "source_country = pd.read_csv('../data/clean_url_to_country.csv')"
   ]
  },
  {
   "cell_type": "code",
   "execution_count": 18,
   "metadata": {
    "collapsed": true
   },
   "outputs": [],
   "source": [
    "mapping = source_country[['Country name', 'Clean URL']].drop_duplicates().set_index('Clean URL')['Country name']"
   ]
  },
  {
   "cell_type": "code",
   "execution_count": 19,
   "metadata": {
    "collapsed": true
   },
   "outputs": [],
   "source": [
    "dic = mapping.to_dict()"
   ]
  },
  {
   "cell_type": "code",
   "execution_count": 20,
   "metadata": {
    "collapsed": true
   },
   "outputs": [],
   "source": [
    "dic['4-traders.com'] = 'France'\n",
    "dic['news.xinhuanet.com'] = 'China'\n",
    "dic['sputniknews.com'] = 'Russia'\n",
    "dic['yahoo.com'] = 'United States'\n",
    "dic['globalsecurity.org'] = 'United States'\n",
    "dic['india.com'] = 'India'\n",
    "dic['malaysiandigest.com'] = 'Malaysia'\n",
    "dic['freerepublic.com'] = 'United States'"
   ]
  },
  {
   "cell_type": "code",
   "execution_count": 21,
   "metadata": {
    "collapsed": true
   },
   "outputs": [],
   "source": [
    "data_kept.loc[data_kept['source_country_name'] == 'Unknown', 'source_country_name'] = data_kept.loc[data_kept['source_country_name'] == 'Unknown', 'Sources'].apply(lambda x: get_tld(x)).apply(lambda x: dic[x] if x in dic else 'Unknown')"
   ]
  },
  {
   "cell_type": "code",
   "execution_count": 22,
   "metadata": {},
   "outputs": [
    {
     "data": {
      "text/plain": [
       "United States                    30.440265\n",
       "Unknown                          30.091334\n",
       "United Kingdom                    4.776480\n",
       "India                             4.687513\n",
       "Australia                         3.184048\n",
       "Canada                            2.264176\n",
       "Nigeria                           2.017679\n",
       "Pakistan                          1.337774\n",
       "South Africa                      1.038631\n",
       "China                             0.922321\n",
       "Malaysia                          0.897426\n",
       "International                     0.866410\n",
       "Philippines                       0.838251\n",
       "Africa Regional                   0.827232\n",
       "Ireland                           0.817029\n",
       "France                            0.663581\n",
       "Ghana                             0.651338\n",
       "Israel                            0.590122\n",
       "New Zealand                       0.523601\n",
       "Russia                            0.443612\n",
       "Bangladesh                        0.426471\n",
       "Near and Middle East Regional     0.408923\n",
       "Kenya                             0.373826\n",
       "Europe Regional                   0.372601\n",
       "Indonesia                         0.355869\n",
       "Tuvalu                            0.333423\n",
       "Armenia                           0.332199\n",
       "Turkey                            0.331383\n",
       "United Arab Emirates              0.327710\n",
       "Azerbaijan                        0.319139\n",
       "                                   ...    \n",
       "Brunei Darussalam                 0.005305\n",
       "Laos                              0.005305\n",
       "Mexico                            0.005305\n",
       "Monaco                            0.004081\n",
       "Bulgaria                          0.004081\n",
       "Denmark                           0.004081\n",
       "Kosovo                            0.003673\n",
       "Antarctica                        0.003673\n",
       "Jersey                            0.003673\n",
       "Marshall Islands                  0.003265\n",
       "American Samoa                    0.002857\n",
       "Chad                              0.002857\n",
       "Croatia                           0.002449\n",
       " Burundi                          0.002449\n",
       "Aruba                             0.001632\n",
       "Haiti                             0.001632\n",
       "North Korea                       0.001632\n",
       "Austria                           0.001632\n",
       "Palestine                         0.001632\n",
       "Dominica                          0.001632\n",
       "Suriname                          0.001224\n",
       "Mongolia                          0.001224\n",
       "Chile                             0.001224\n",
       "Panama                            0.000816\n",
       "Saint Lucia                       0.000816\n",
       "Morocco                           0.000816\n",
       "Latvia                            0.000816\n",
       "Sint Maarten                      0.000408\n",
       "Tonga                             0.000408\n",
       "Sao Tome and Principe             0.000408\n",
       "Name: source_country_name, Length: 192, dtype: float64"
      ]
     },
     "execution_count": 22,
     "metadata": {},
     "output_type": "execute_result"
    }
   ],
   "source": [
    "data_kept['source_country_name'].value_counts()/len(data_kept['source_country_name'].values) * 100"
   ]
  },
  {
   "cell_type": "code",
   "execution_count": 23,
   "metadata": {},
   "outputs": [
    {
     "data": {
      "text/plain": [
       "english.sina.com              453\n",
       "godlikeproductions.com        414\n",
       "sott.net                      365\n",
       "usa.onlinenigeria.com         363\n",
       "bostonglobe.com               354\n",
       "article.wn.com                339\n",
       "news.trust.org                331\n",
       "whio.com                      325\n",
       "beijingbulletin.com           307\n",
       "openpr.com                    297\n",
       "irishsun.com                  281\n",
       "indiagazette.com              261\n",
       "arabherald.com                260\n",
       "hosted2.ap.org                245\n",
       "wsws.org                      243\n",
       "blogs.worldbank.org           241\n",
       "worldbulletin.net             237\n",
       "refworld.org                  233\n",
       "theiranproject.com            232\n",
       "m.themalaymailonline.com      226\n",
       "nasdaq.com                    222\n",
       "juancole.com                  212\n",
       "mypalmbeachpost.com           208\n",
       "benarnews.org                 203\n",
       "m.philstar.com                200\n",
       "pressreleasepoint.com         194\n",
       "criticalthreats.org           188\n",
       "iraqsun.com                   188\n",
       "targetednews.com              188\n",
       "oneindia.com                  187\n",
       "                             ... \n",
       "ossining.dailyvoice.com         1\n",
       "obituaries.enidnews.com         1\n",
       "kpopstarz.com                   1\n",
       "929wlmi.com                     1\n",
       "quadcitiesdaily.com             1\n",
       "opi.net                         1\n",
       "archive.boston.com              1\n",
       "bchomez.com                     1\n",
       "news.missouristate.edu          1\n",
       "hub.jhu.edu                     1\n",
       "off-road.com                    1\n",
       "smartertravel.com               1\n",
       "dentalnewspk.com                1\n",
       "thebottomline.as.ucsb.edu       1\n",
       "designyoutrust.com              1\n",
       "bentonbulletin.com              1\n",
       "portstrategy.com                1\n",
       "imf-fmi.africa                  1\n",
       "designmena.com                  1\n",
       "earthfirstjournal.org           1\n",
       "eriegaynews.com                 1\n",
       "3chicspolitico.com              1\n",
       "bikeportland.org                1\n",
       "robotics.org                    1\n",
       "bdcnetwork.com                  1\n",
       "qatarliving.com                 1\n",
       "pharmaceutical-journal.com      1\n",
       "beltmag.com                     1\n",
       "ipfa.org                        1\n",
       "christianitytoday.com           1\n",
       "Name: Sources, Length: 5415, dtype: int64"
      ]
     },
     "execution_count": 23,
     "metadata": {},
     "output_type": "execute_result"
    }
   ],
   "source": [
    "data_kept.loc[data_kept['source_country_name'] == 'Unknown', 'Sources'].apply(lambda x: get_tld(x)).value_counts()"
   ]
  },
  {
   "cell_type": "code",
   "execution_count": 24,
   "metadata": {
    "collapsed": true
   },
   "outputs": [],
   "source": [
    "data_kept = data_kept[['IsRootEvent', 'QuadClass', 'EventCode', 'EventRootCode', 'ActionGeo_Lat', 'ActionGeo_Long', 'country_name', 'source_country_name']]"
   ]
  },
  {
   "cell_type": "code",
   "execution_count": 25,
   "metadata": {
    "collapsed": true
   },
   "outputs": [],
   "source": [
    "data_kept.to_csv('../data/data_cleaned.csv')"
   ]
  },
  {
   "cell_type": "code",
   "execution_count": 28,
   "metadata": {},
   "outputs": [
    {
     "data": {
      "text/plain": [
       "{'-': 'Zaire',\n",
       " 'ABW': 'Aruba',\n",
       " 'AFG': 'Afghanistan',\n",
       " 'AGO': 'Angola',\n",
       " 'AIA': 'Anguilla',\n",
       " 'ALB': 'Albania',\n",
       " 'AND': 'Andorra',\n",
       " 'ARE': 'United Arab Emirates',\n",
       " 'ARG': 'Argentina',\n",
       " 'ARM': 'Armenia',\n",
       " 'ASM': 'American Samoa',\n",
       " 'ATA': 'Antarctica',\n",
       " 'ATF': 'French Southern and Antarctic Lands',\n",
       " 'ATG': 'Antigua and Barbuda',\n",
       " 'AUS': 'Australia',\n",
       " 'AUT': 'Austria',\n",
       " 'AZE': 'Azerbaijan',\n",
       " 'BDI': 'Burundi',\n",
       " 'BEL': 'Belgium',\n",
       " 'BEN': 'Benin',\n",
       " 'BFA': 'Burkina Faso',\n",
       " 'BGD': 'Bangladesh',\n",
       " 'BGR': 'Bulgaria',\n",
       " 'BHR': 'Bahrain',\n",
       " 'BHS': 'Bahamas, The',\n",
       " 'BIH': 'Bosnia and Herzegovina',\n",
       " 'BLM': 'Saint Barthelemy',\n",
       " 'BLR': 'Belarus',\n",
       " 'BLZ': 'Belize',\n",
       " 'BMU': 'Bermuda',\n",
       " 'BOL': 'Bolivia',\n",
       " 'BRA': 'Brazil',\n",
       " 'BRB': 'Barbados',\n",
       " 'BRN': 'Brunei',\n",
       " 'BTN': 'Bhutan',\n",
       " 'BVT': 'Bouvet Island',\n",
       " 'BWA': 'Botswana',\n",
       " 'CAF': 'Central African Republic',\n",
       " 'CAN': 'Canada',\n",
       " 'CCK': 'Cocos (Keeling) Islands',\n",
       " 'CHE': 'Switzerland',\n",
       " 'CHL': 'Chile',\n",
       " 'CHN': 'China',\n",
       " 'CIV': \"Cote d'Ivoire\",\n",
       " 'CMR': 'Cameroon',\n",
       " 'COD': 'Congo, Democratic Republic of the',\n",
       " 'COG': 'Congo, Republic of the',\n",
       " 'COK': 'Cook Islands',\n",
       " 'COL': 'Colombia',\n",
       " 'COM': 'Comoros',\n",
       " 'CPV': 'Cabo Verde',\n",
       " 'CRI': 'Costa Rica',\n",
       " 'CUB': 'Cuba',\n",
       " 'CUW': 'Curacao',\n",
       " 'CXR': 'Christmas Island',\n",
       " 'CYM': 'Cayman Islands',\n",
       " 'CYP': 'Cyprus',\n",
       " 'CZE': 'Czechia',\n",
       " 'DEU': 'Germany',\n",
       " 'DJI': 'Djibouti',\n",
       " 'DMA': 'Dominica',\n",
       " 'DNK': 'Denmark',\n",
       " 'DOM': 'Dominican Republic',\n",
       " 'DZA': 'Algeria',\n",
       " 'ECU': 'Ecuador',\n",
       " 'EGY': 'Egypt',\n",
       " 'ERI': 'Eritrea',\n",
       " 'ESH': 'Western Sahara',\n",
       " 'ESP': 'Spain',\n",
       " 'EST': 'Estonia',\n",
       " 'ETH': 'Ethiopia',\n",
       " 'FIN': 'Finland',\n",
       " 'FJI': 'Fiji',\n",
       " 'FLK': 'Falkland Islands (Islas Malvinas)',\n",
       " 'FRA': 'France',\n",
       " 'FRO': 'Faroe Islands',\n",
       " 'FSM': 'Micronesia, Federated States of',\n",
       " 'FXX': 'France, Metropolitan',\n",
       " 'GAB': 'Gabon',\n",
       " 'GBR': 'United Kingdom',\n",
       " 'GEO': 'Georgia',\n",
       " 'GGY': 'Guernsey',\n",
       " 'GHA': 'Ghana',\n",
       " 'GIB': 'Gibraltar',\n",
       " 'GIN': 'Guinea',\n",
       " 'GLP': 'Guadeloupe',\n",
       " 'GMB': 'Gambia, The',\n",
       " 'GNB': 'Guinea-Bissau',\n",
       " 'GNQ': 'Equatorial Guinea',\n",
       " 'GRC': 'Greece',\n",
       " 'GRD': 'Grenada',\n",
       " 'GRL': 'Greenland',\n",
       " 'GTM': 'Guatemala',\n",
       " 'GUF': 'French Guiana',\n",
       " 'GUM': 'Guam',\n",
       " 'GUY': 'Guyana',\n",
       " 'HKG': 'Hong Kong',\n",
       " 'HMD': 'Heard Island and McDonald Islands',\n",
       " 'HND': 'Honduras',\n",
       " 'HRV': 'Croatia',\n",
       " 'HTI': 'Haiti',\n",
       " 'HUN': 'Hungary',\n",
       " 'IDN': 'Indonesia',\n",
       " 'IMN': 'Isle of Man',\n",
       " 'IND': 'India',\n",
       " 'IOT': 'British Indian Ocean Territory',\n",
       " 'IRL': 'Ireland',\n",
       " 'IRN': 'Iran',\n",
       " 'IRQ': 'Iraq',\n",
       " 'ISL': 'Iceland',\n",
       " 'ISR': 'Israel',\n",
       " 'ITA': 'Italy',\n",
       " 'JAM': 'Jamaica',\n",
       " 'JEY': 'Jersey',\n",
       " 'JOR': 'Jordan',\n",
       " 'JPN': 'Japan',\n",
       " 'KAZ': 'Kazakhstan',\n",
       " 'KEN': 'Kenya',\n",
       " 'KGZ': 'Kyrgyzstan',\n",
       " 'KHM': 'Cambodia',\n",
       " 'KIR': 'Kiribati',\n",
       " 'KNA': 'Saint Kitts and Nevis',\n",
       " 'KOR': 'Korea, South',\n",
       " 'KWT': 'Kuwait',\n",
       " 'LAO': 'Laos',\n",
       " 'LBN': 'Lebanon',\n",
       " 'LBR': 'Liberia',\n",
       " 'LBY': 'Libya',\n",
       " 'LCA': 'Saint Lucia',\n",
       " 'LIE': 'Liechtenstein',\n",
       " 'LKA': 'Sri Lanka',\n",
       " 'LSO': 'Lesotho',\n",
       " 'LTU': 'Lithuania',\n",
       " 'LUX': 'Luxembourg',\n",
       " 'LVA': 'Latvia',\n",
       " 'MAC': 'Macau',\n",
       " 'MAF': 'Saint Martin',\n",
       " 'MAR': 'Morocco',\n",
       " 'MCO': 'Monaco',\n",
       " 'MDA': 'Moldova',\n",
       " 'MDG': 'Madagascar',\n",
       " 'MDV': 'Maldives',\n",
       " 'MEX': 'Mexico',\n",
       " 'MHL': 'Marshall Islands',\n",
       " 'MKD': 'Macedonia',\n",
       " 'MLI': 'Mali',\n",
       " 'MLT': 'Malta',\n",
       " 'MMR': 'Burma',\n",
       " 'MNE': 'Montenegro',\n",
       " 'MNG': 'Mongolia',\n",
       " 'MNP': 'Northern Mariana Islands',\n",
       " 'MOZ': 'Mozambique',\n",
       " 'MRT': 'Mauritania',\n",
       " 'MSR': 'Montserrat',\n",
       " 'MTQ': 'Martinique',\n",
       " 'MUS': 'Mauritius',\n",
       " 'MWI': 'Malawi',\n",
       " 'MYS': 'Malaysia',\n",
       " 'MYT': 'Mayotte',\n",
       " 'NAM': 'Namibia',\n",
       " 'NCL': 'New Caledonia',\n",
       " 'NER': 'Niger',\n",
       " 'NFK': 'Norfolk Island',\n",
       " 'NGA': 'Nigeria',\n",
       " 'NIC': 'Nicaragua',\n",
       " 'NIU': 'Niue',\n",
       " 'NLD': 'Netherlands',\n",
       " 'NOR': 'Norway',\n",
       " 'NPL': 'Nepal',\n",
       " 'NRU': 'Nauru',\n",
       " 'NZL': 'New Zealand',\n",
       " 'OMN': 'Oman',\n",
       " 'PAK': 'Pakistan',\n",
       " 'PAN': 'Panama',\n",
       " 'PCN': 'Pitcairn Islands',\n",
       " 'PER': 'Peru',\n",
       " 'PHL': 'Philippines',\n",
       " 'PLW': 'Palau',\n",
       " 'PNG': 'Papua New Guinea',\n",
       " 'POL': 'Poland',\n",
       " 'PRI': 'Puerto Rico',\n",
       " 'PRK': 'Korea, North',\n",
       " 'PRT': 'Portugal',\n",
       " 'PRY': 'Paraguay',\n",
       " 'PSE': 'West Bank',\n",
       " 'PYF': 'French Polynesia',\n",
       " 'QAT': 'Qatar',\n",
       " 'REU': 'Reunion',\n",
       " 'ROU': 'Romania',\n",
       " 'RUS': 'Russia',\n",
       " 'RWA': 'Rwanda',\n",
       " 'SAU': 'Saudi Arabia',\n",
       " 'SDN': 'Sudan',\n",
       " 'SEN': 'Senegal',\n",
       " 'SGP': 'Singapore',\n",
       " 'SGS': 'South Georgia and the Islands',\n",
       " 'SHN': 'Saint Helena, Ascension, and Tristan da Cunha',\n",
       " 'SJM': 'Svalbard',\n",
       " 'SLB': 'Solomon Islands',\n",
       " 'SLE': 'Sierra Leone',\n",
       " 'SLV': 'El Salvador',\n",
       " 'SMR': 'San Marino',\n",
       " 'SOM': 'Somalia',\n",
       " 'SPM': 'Saint Pierre and Miquelon',\n",
       " 'SRB': 'Serbia',\n",
       " 'SSD': 'South Sudan',\n",
       " 'STP': 'Sao Tome and Principe',\n",
       " 'SUR': 'Suriname',\n",
       " 'SVK': 'Slovakia',\n",
       " 'SVN': 'Slovenia',\n",
       " 'SWE': 'Sweden',\n",
       " 'SWZ': 'Swaziland',\n",
       " 'SXM': 'Sint Maarten',\n",
       " 'SYC': 'Seychelles',\n",
       " 'SYR': 'Syria',\n",
       " 'TCA': 'Turks and Caicos Islands',\n",
       " 'TCD': 'Chad',\n",
       " 'TGO': 'Togo',\n",
       " 'THA': 'Thailand',\n",
       " 'TJK': 'Tajikistan',\n",
       " 'TKL': 'Tokelau',\n",
       " 'TKM': 'Turkmenistan',\n",
       " 'TLS': 'Timor-Leste',\n",
       " 'TON': 'Tonga',\n",
       " 'TTO': 'Trinidad and Tobago',\n",
       " 'TUN': 'Tunisia',\n",
       " 'TUR': 'Turkey',\n",
       " 'TUV': 'Tuvalu',\n",
       " 'TWN': 'Taiwan',\n",
       " 'TZA': 'Tanzania',\n",
       " 'UGA': 'Uganda',\n",
       " 'UKR': 'Ukraine',\n",
       " 'UMI': 'United States Minor Outlying Islands',\n",
       " 'URY': 'Uruguay',\n",
       " 'USA': 'United States',\n",
       " 'UZB': 'Uzbekistan',\n",
       " 'VAT': 'Holy See (Vatican City)',\n",
       " 'VCT': 'Saint Vincent and the Grenadines',\n",
       " 'VEN': 'Venezuela',\n",
       " 'VGB': 'British Virgin Islands',\n",
       " 'VIR': 'Virgin Islands',\n",
       " 'VNM': 'Vietnam',\n",
       " 'VUT': 'Vanuatu',\n",
       " 'WLF': 'Wallis and Futuna',\n",
       " 'WSM': 'Samoa',\n",
       " 'XKS': 'Kosovo',\n",
       " 'YEM': 'Yemen',\n",
       " 'ZAF': 'South Africa',\n",
       " 'ZMB': 'Zambia',\n",
       " 'ZWE': 'Zimbabwe',\n",
       " '\\xa0': 'Netherlands Antilles'}"
      ]
     },
     "execution_count": 28,
     "metadata": {},
     "output_type": "execute_result"
    }
   ],
   "source": [
    "alpha_to_name"
   ]
  },
  {
   "cell_type": "code",
   "execution_count": 41,
   "metadata": {},
   "outputs": [],
   "source": [
    "name_to_alpha = {alpha_to_name[x].strip(): x for x in alpha_to_name}"
   ]
  },
  {
   "cell_type": "code",
   "execution_count": 65,
   "metadata": {
    "scrolled": false
   },
   "outputs": [],
   "source": [
    "data_kept['source_country_name'] = data_kept['source_country_name'].apply(lambda x: name_to_alpha[x.strip()] if x.strip() in name_to_alpha else 'INT')"
   ]
  },
  {
   "cell_type": "code",
   "execution_count": 61,
   "metadata": {},
   "outputs": [],
   "source": [
    "data_kept.loc[data_kept['source_country_name'] == 'South Korea', 'source_country_name'] = 'Korea, South'\n",
    "data_kept.loc[data_kept['source_country_name'] == 'North Korea', 'source_country_name'] = 'Korea, North'\n",
    "data_kept.loc[data_kept['source_country_name'] == 'Bahamas', 'source_country_name'] = 'Bahamas, The'\n",
    "data_kept.loc[data_kept['source_country_name'] == 'Czech Republic', 'source_country_name'] = 'Czechia'\n",
    "data_kept.loc[data_kept['source_country_name'] == 'Western Samoa', 'source_country_name'] = 'Samoa'\n",
    "data_kept.loc[data_kept['source_country_name'] == 'Myanmar', 'source_country_name'] = 'Burma'\n",
    "data_kept.loc[data_kept['source_country_name'] == 'United States Virgin Islands', 'source_country_name'] = 'Virgin Islands'\n",
    "data_kept.loc[data_kept['source_country_name'] == 'Gambia', 'source_country_name'] = 'Gambia, The'\n",
    "data_kept.loc[data_kept['source_country_name'] == 'Falkland Islands', 'source_country_name'] = 'Falkland Islands (Islas Malvinas)'\n",
    "data_kept.loc[data_kept['source_country_name'] == 'Brunei Darussalam', 'source_country_name'] = 'Brunei'"
   ]
  },
  {
   "cell_type": "code",
   "execution_count": null,
   "metadata": {
    "collapsed": true
   },
   "outputs": [],
   "source": []
  }
 ],
 "metadata": {
  "kernelspec": {
   "display_name": "Python 3",
   "language": "python",
   "name": "python3"
  },
  "language_info": {
   "codemirror_mode": {
    "name": "ipython",
    "version": 3
   },
   "file_extension": ".py",
   "mimetype": "text/x-python",
   "name": "python",
   "nbconvert_exporter": "python",
   "pygments_lexer": "ipython3",
   "version": "3.6.1"
  }
 },
 "nbformat": 4,
 "nbformat_minor": 2
}
